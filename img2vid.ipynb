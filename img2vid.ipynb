{
 "cells": [
  {
   "cell_type": "markdown",
   "id": "214a60ec-7c98-4bd6-ad4b-10ca83899a8f",
   "metadata": {},
   "source": [
    "### 安装svd_xt_1_1模型"
   ]
  },
  {
   "cell_type": "code",
   "execution_count": 21,
   "id": "ae61ef30-c0e6-4c17-b375-788b5c28e37b",
   "metadata": {
    "ExecutionIndicator": {
     "show": false
    },
    "execution": {
     "iopub.status.idle": "2024-04-16T03:56:04.182741Z",
     "shell.execute_reply": "2024-04-16T03:56:04.182195Z",
     "shell.execute_reply.started": "2024-04-16T03:55:38.944035Z"
    },
    "tags": []
   },
   "outputs": [
    {
     "name": "stdout",
     "output_type": "stream",
     "text": [
      "repo?Revision=maste 100%[+==================>]   4.45G   160MB/s    用时 24s     \n",
      "\n",
      "2024-04-16 11:56:04 (169 MB/s) - 已保存 ‘./ComfyUI/models/checkpoints/repo?Revision=master&FilePath=svd_xt_1_1.safetensors’ [4780030976/4780030976])\n",
      "\n"
     ]
    }
   ],
   "source": [
    "!wget -c \"https://www.modelscope.cn/api/v1/models/cjc1887415157/stable-video-diffusion-img2vid-xt-1-1/repo?Revision=master&FilePath=svd_xt_1_1.safetensors\" -P ./ComfyUI/models/checkpoints/ "
   ]
  }
 ],
 "metadata": {
  "kernelspec": {
   "display_name": "Python 3 (ipykernel)",
   "language": "python",
   "name": "python3"
  },
  "language_info": {
   "codemirror_mode": {
    "name": "ipython",
    "version": 3
   },
   "file_extension": ".py",
   "mimetype": "text/x-python",
   "name": "python",
   "nbconvert_exporter": "python",
   "pygments_lexer": "ipython3",
   "version": "3.10.13"
  }
 },
 "nbformat": 4,
 "nbformat_minor": 5
}
